{
 "cells": [
  {
   "cell_type": "markdown",
   "id": "7c1e9427",
   "metadata": {},
   "source": [
    "https://www.nltk.org/howto/wsd.html\n",
    "# Word Sense Disambiguation(WSD)\n",
    "# Lesk Algorithm\n",
    "#Performs the classic Lesk algorithm for Word Sense Disambiguation (WSD) using a the definitions of the ambiguous word.\n",
    "\n",
    "#Given an ambiguous word and the context in which the word occurs, Lesk returns a Synset with the highest number of overlapping #words between the context sentence and different definitions from each Synset."
   ]
  },
  {
   "cell_type": "code",
   "execution_count": 43,
   "id": "5d7a3144",
   "metadata": {},
   "outputs": [],
   "source": [
    "from nltk.wsd import lesk"
   ]
  },
  {
   "cell_type": "code",
   "execution_count": 44,
   "id": "adc5a16a",
   "metadata": {},
   "outputs": [],
   "source": [
    "sent = ['I', 'went', 'to', 'the', 'bank', 'to', 'deposit', 'money', '.']"
   ]
  },
  {
   "cell_type": "code",
   "execution_count": 45,
   "id": "d333cfb9",
   "metadata": {},
   "outputs": [
    {
     "name": "stdout",
     "output_type": "stream",
     "text": [
      "Synset('savings_bank.n.02')\n"
     ]
    }
   ],
   "source": [
    " print(lesk(sent, 'bank', 'n'))"
   ]
  },
  {
   "cell_type": "code",
   "execution_count": 46,
   "id": "bce2d175",
   "metadata": {},
   "outputs": [
    {
     "name": "stdout",
     "output_type": "stream",
     "text": [
      "Synset('bank.n.01') sloping land (especially the slope beside a body of water)\n",
      "Synset('depository_financial_institution.n.01') a financial institution that accepts deposits and channels the money into lending activities\n",
      "Synset('bank.n.03') a long ridge or pile\n",
      "Synset('bank.n.04') an arrangement of similar objects in a row or in tiers\n",
      "Synset('bank.n.05') a supply or stock held in reserve for future use (especially in emergencies)\n",
      "Synset('bank.n.06') the funds held by a gambling house or the dealer in some gambling games\n",
      "Synset('bank.n.07') a slope in the turn of a road or track; the outside is higher than the inside in order to reduce the effects of centrifugal force\n",
      "Synset('savings_bank.n.02') a container (usually with a slot in the top) for keeping money at home\n",
      "Synset('bank.n.09') a building in which the business of banking transacted\n",
      "Synset('bank.n.10') a flight maneuver; aircraft tips laterally about its longitudinal axis (especially in turning)\n",
      "Synset('bank.v.01') tip laterally\n",
      "Synset('bank.v.02') enclose with a bank\n",
      "Synset('bank.v.03') do business with a bank or keep an account at a bank\n",
      "Synset('bank.v.04') act as the banker in a game or in gambling\n",
      "Synset('bank.v.05') be in the banking business\n",
      "Synset('deposit.v.02') put into a bank account\n",
      "Synset('bank.v.07') cover with ashes so to control the rate of burning\n",
      "Synset('trust.v.01') have confidence or faith in\n"
     ]
    }
   ],
   "source": [
    "#Test disambiguation of POS tagged bank.\n",
    "from nltk.corpus import wordnet as wn\n",
    "\n",
    "for ss in wn.synsets('bank'):\n",
    "    print(ss, ss.definition())"
   ]
  },
  {
   "cell_type": "code",
   "execution_count": 47,
   "id": "90f002a4",
   "metadata": {},
   "outputs": [
    {
     "data": {
      "text/plain": [
       "[(Synset('able.a.01'), 'a'),\n",
       " (Synset('able.s.02'), 's'),\n",
       " (Synset('able.s.03'), 's'),\n",
       " (Synset('able.s.04'), 's')]"
      ]
     },
     "execution_count": 47,
     "metadata": {},
     "output_type": "execute_result"
    }
   ],
   "source": [
    "#Test disambiguation of POS tagged able.\n",
    "[(s, s.pos()) for s in wn.synsets('able')]"
   ]
  },
  {
   "cell_type": "code",
   "execution_count": 48,
   "id": "4a66c7ea",
   "metadata": {},
   "outputs": [],
   "source": [
    "sent = 'people should be able to marry a person of their choice'.split()"
   ]
  },
  {
   "cell_type": "code",
   "execution_count": 49,
   "id": "bac5cc0b",
   "metadata": {},
   "outputs": [
    {
     "data": {
      "text/plain": [
       "Synset('able.s.04')"
      ]
     },
     "execution_count": 49,
     "metadata": {},
     "output_type": "execute_result"
    }
   ],
   "source": [
    "lesk(sent, 'able')"
   ]
  },
  {
   "cell_type": "code",
   "execution_count": 40,
   "id": "d1a1fc8b",
   "metadata": {},
   "outputs": [
    {
     "data": {
      "text/plain": [
       "Synset('able.a.01')"
      ]
     },
     "execution_count": 40,
     "metadata": {},
     "output_type": "execute_result"
    }
   ],
   "source": [
    "lesk(sent, 'able', pos='a')"
   ]
  },
  {
   "cell_type": "code",
   "execution_count": 50,
   "id": "f75dfc30",
   "metadata": {},
   "outputs": [],
   "source": [
    "\n",
    "lesk('John called Mary'.split(), 'called', synsets=[])"
   ]
  }
 ],
 "metadata": {
  "kernelspec": {
   "display_name": "Python 3 (ipykernel)",
   "language": "python",
   "name": "python3"
  },
  "language_info": {
   "codemirror_mode": {
    "name": "ipython",
    "version": 3
   },
   "file_extension": ".py",
   "mimetype": "text/x-python",
   "name": "python",
   "nbconvert_exporter": "python",
   "pygments_lexer": "ipython3",
   "version": "3.9.5"
  }
 },
 "nbformat": 4,
 "nbformat_minor": 5
}
