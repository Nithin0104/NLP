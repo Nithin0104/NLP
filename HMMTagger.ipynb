{
  "cells": [
    {
      "cell_type": "markdown",
      "metadata": {
        "id": "UNSnkuqRdJNv"
      },
      "source": [
        "# Part-Of-Speech-tagging\n",
        "\n",
        "https://medium.com/@patrickhk/\n",
        "part-of-speech-tagging-with-hidden-markov-models-hmm-4224cb72e9b9\n",
        "\n",
        "Part-Of-Speech-tagging using Hidden Markov model to identify the category of words ('noun', 'verb', ...) in plain text.\n",
        "\n",
        "The objective is to categorize each word in sentences as one of the **12 categories of the universal POS tag set.** \n",
        "This process is called **Part-Of-Speech-Tagging.**\n",
        "\n",
        "Part of speech tagging is the process of determining the syntactic category of a word from the words in its surrounding context. \n",
        "\n",
        "Parts of speech (also known as POS, word classes, or syntactic categories) are useful because they reveal a lot about a word and its neighbors. \n",
        "\n",
        "Knowing whether a word is a noun or a verb tells us about likely neighboring words (nouns are preceded by determiners and adjectives, verbs by nouns) and syntactic structure (nouns are generally part of noun phrases), making part-of-speech tagging a key aspect of parsing. \n",
        "\n",
        "It is often used to help disambiguate natural language phrases because it can be done quickly with high accuracy. \n",
        "\n",
        "Tagging can be used for many NLP tasks like determining correct pronunciation during speech synthesis (for example, the word content is pronounced CONtent when it is a noun and conTENT when it is an adjective, same with dis-count as a noun vs dis-count as a verb), for information retrieval, for labeling named entities like people or organizations in information extraction and for word sense disambiguation.\n",
        "\n",
        "The universal POS tagset used in this project defines the following twelve POS tags: \n",
        "NOUN (nouns),\n",
        "\n",
        "VERB (verbs),\n",
        "\n",
        "ADJ (adjectives), \n",
        "\n",
        "ADV (adverbs),\n",
        "\n",
        "PRON (pronouns),\n",
        "\n",
        "DET (determiners and articles),\n",
        "\n",
        "ADP (prepositions and postpositions),\n",
        "\n",
        "NUM (numerals),\n",
        "\n",
        "CONJ (conjunctions),\n",
        "\n",
        "PRT (particles),\n",
        "a conjunction is an **invariable (non-inflected) grammatical particle **and it may or may not stand between the items conjoined. \n",
        "\n",
        "The definition of a conjunction may also be extended to idiomatic phrases that behave as a unit with the same function,\n",
        "\n",
        " e.g. \"as well as\", \"provided that\".\n",
        "\n",
        "‘.’ (punctuation marks) and \n",
        "\n",
        "X (a catch-all for other categories such as abbreviations or foreign words).\n",
        "\n"
      ]
    },
    {
      "cell_type": "code",
      "execution_count": null,
      "metadata": {
        "colab": {
          "base_uri": "https://localhost:8080/"
        },
        "id": "4F7KxTRE5xNg",
        "outputId": "3f75f90f-c56c-4793-de24-b74c8aadd171"
      },
      "outputs": [
        {
          "name": "stdout",
          "output_type": "stream",
          "text": [
            "Requirement already satisfied: pomegranate in /usr/local/lib/python3.7/dist-packages (0.14.7)\n",
            "Requirement already satisfied: numpy>=1.20.0 in /usr/local/lib/python3.7/dist-packages (from pomegranate) (1.21.5)\n",
            "Requirement already satisfied: scipy>=0.17.0 in /usr/local/lib/python3.7/dist-packages (from pomegranate) (1.4.1)\n",
            "Requirement already satisfied: pyyaml in /usr/local/lib/python3.7/dist-packages (from pomegranate) (3.13)\n",
            "Requirement already satisfied: joblib>=0.9.0b4 in /usr/local/lib/python3.7/dist-packages (from pomegranate) (1.1.0)\n",
            "Requirement already satisfied: networkx>=2.4 in /usr/local/lib/python3.7/dist-packages (from pomegranate) (2.6.3)\n"
          ]
        }
      ],
      "source": [
        "!pip install pomegranate"
      ]
    },
    {
      "cell_type": "markdown",
      "metadata": {
        "id": "QRzATDecFyhO"
      },
      "source": [
        "Reference: \n",
        "https://towardsdatascience.com/part-of-speech-tagging-with-hidden-markov-chain-models-e9fccc835c0e"
      ]
    },
    {
      "cell_type": "markdown",
      "metadata": {
        "id": "LdLLDSEgCqZJ"
      },
      "source": [
        "Import the libraries and read the data."
      ]
    },
    {
      "cell_type": "code",
      "execution_count": null,
      "metadata": {
        "id": "6M2RyB444IYj"
      },
      "outputs": [],
      "source": [
        "import matplotlib.pyplot as plt\n",
        "import numpy as np\n",
        "from IPython.core.display import HTML\n",
        "from itertools import chain\n",
        "from collections import Counter, defaultdict,namedtuple,OrderedDict\n",
        "from pomegranate import State, HiddenMarkovModel, DiscreteDistribution\n",
        "import random\n",
        "\n",
        "Sentence = namedtuple(\"Sentence\", \"words tags\")\n",
        "def read_data(filename):\n",
        "    \"\"\"Read tagged sentence data\"\"\"\n",
        "    with open(filename, 'r') as f:\n",
        "        sentence_lines = [l.split(\"\\n\") for l in f.read().split(\"\\n\\n\")]\n",
        "    return OrderedDict(((s[0], Sentence(*zip(*[l.strip().split(\"\\t\")\n",
        "                        for l in s[1:]]))) for s in sentence_lines if s[0]))\n",
        "def read_tags(filename):\n",
        "    \"\"\"Read a list of word tag classes\"\"\"\n",
        "    with open(filename, 'r') as f:\n",
        "        tags = f.read().split(\"\\n\")\n",
        "    return frozenset(tags)\n",
        "Sentence = namedtuple(\"Sentence\", \"words tags\")\n",
        "def read_data(filename):\n",
        "    \"\"\"Read tagged sentence data\"\"\"\n",
        "    with open(filename, 'r') as f:\n",
        "        sentence_lines = [l.split(\"\\n\") for l in f.read().split(\"\\n\\n\")]\n",
        "    return OrderedDict(((s[0], Sentence(*zip(*[l.strip().split(\"\\t\")\n",
        "                        for l in s[1:]]))) for s in sentence_lines if s[0]))\n",
        "def read_tags(filename):\n",
        "    \"\"\"Read a list of word tag classes\"\"\"\n",
        "    with open(filename, 'r') as f:\n",
        "        tags = f.read().split(\"\\n\")\n",
        "    return frozenset(tags)\n",
        "\n",
        "class Subset(namedtuple(\"BaseSet\", \"sentences keys vocab X tagset Y N stream\")):\n",
        "    def __new__(cls, sentences, keys):\n",
        "        word_sequences = tuple([sentences[k].words for k in keys])\n",
        "        tag_sequences = tuple([sentences[k].tags for k in keys])\n",
        "        wordset = frozenset(chain(*word_sequences))\n",
        "        tagset = frozenset(chain(*tag_sequences))\n",
        "        N = sum(1 for _ in chain(*(sentences[k].words for k in keys)))\n",
        "        stream = tuple(zip(chain(*word_sequences), chain(*tag_sequences)))\n",
        "        return super().__new__(cls, {k: sentences[k] for k in keys}, keys, wordset, word_sequences,\n",
        "                               tagset, tag_sequences, N, stream.__iter__)\n",
        "def __len__(self):\n",
        "        return len(self.sentences)\n",
        "def __iter__(self):\n",
        "        return iter(self.sentences.items())\n",
        "#Dataset class\n",
        "class Dataset(namedtuple(\"_Dataset\", \"sentences keys vocab X tagset Y training_set testing_set N stream\")):\n",
        "    def __new__(cls, tagfile, datafile, train_test_split=0.8, seed=112890):\n",
        "        tagset = read_tags(tagfile)\n",
        "        sentences = read_data(datafile)\n",
        "        keys = tuple(sentences.keys())\n",
        "        wordset = frozenset(chain(*[s.words for s in sentences.values()]))\n",
        "        word_sequences = tuple([sentences[k].words for k in keys])\n",
        "        tag_sequences = tuple([sentences[k].tags for k in keys])\n",
        "        N = sum(1 for _ in chain(*(s.words for s in sentences.values())))\n",
        "        \n",
        "        # split data into train/test sets\n",
        "        _keys = list(keys)\n",
        "        if seed is not None: random.seed(seed)\n",
        "        random.shuffle(_keys)\n",
        "        split = int(train_test_split * len(_keys))\n",
        "        training_data = Subset(sentences, _keys[:split])\n",
        "        testing_data = Subset(sentences, _keys[split:])\n",
        "        stream = tuple(zip(chain(*word_sequences), chain(*tag_sequences)))\n",
        "        return super().__new__(cls, dict(sentences), keys, wordset, word_sequences, tagset,\n",
        "                               tag_sequences, training_data, testing_data, N, stream.__iter__)\n",
        "def __len__(self):\n",
        "        return len(self.sentences)\n",
        "def __iter__(self):\n",
        "        return iter(self.sentences.items())\n"
      ]
    },
    {
      "cell_type": "code",
      "execution_count": null,
      "metadata": {
        "colab": {
          "base_uri": "https://localhost:8080/"
        },
        "id": "kIqk0h4NGJf-",
        "outputId": "f79cc439-a072-4817-cfa1-1646bb58cd42"
      },
      "outputs": [
        {
          "name": "stdout",
          "output_type": "stream",
          "text": [
            "There are 10 sentences in the corpus.\n",
            "There are 8 sentences in the training set.\n",
            "There are 8 sentences in the testing set.\n"
          ]
        }
      ],
      "source": [
        "data = Dataset(\"/content/drive/MyDrive/nlp2020/tags-universal.txt\", \"/content/drive/MyDrive/nlp2020/brown-universal.txt\", train_test_split=0.8)\n",
        "print(\"There are {} sentences in the corpus.\".format(len(data)))\n",
        "print(\"There are {} sentences in the training set.\".format(len(data.training_set)))\n",
        "print(\"There are {} sentences in the testing set.\".format(len(data.testing_set)))"
      ]
    },
    {
      "cell_type": "markdown",
      "metadata": {
        "id": "Va-QmwC2DPWI"
      },
      "source": [
        " Have a peek of data.sentences"
      ]
    },
    {
      "cell_type": "code",
      "execution_count": null,
      "metadata": {
        "colab": {
          "base_uri": "https://localhost:8080/"
        },
        "id": "c-CadHnL8BZe",
        "outputId": "122f803e-6973-48e1-f54a-9d2764dcbb32"
      },
      "outputs": [
        {
          "name": "stdout",
          "output_type": "stream",
          "text": [
            "Sentence: b100-38532\n",
            "words:\n",
            "\t('Perhaps', 'it', 'was', 'right', ';', ';')\n",
            "tags:\n",
            "\t('ADV', 'PRON', 'VERB', 'ADJ', '.', '.')\n"
          ]
        }
      ],
      "source": [
        "key = 'b100-38532'\n",
        "print(\"Sentence: {}\".format(key))\n",
        "print(\"words:\\n\\t{!s}\".format(data.sentences[key].words))\n",
        "print(\"tags:\\n\\t{!s}\".format(data.sentences[key].tags))"
      ]
    },
    {
      "cell_type": "markdown",
      "metadata": {
        "id": "8xD22uFEDXWf"
      },
      "source": [
        "Counting unique elements in the corpus."
      ]
    },
    {
      "cell_type": "code",
      "execution_count": null,
      "metadata": {
        "colab": {
          "base_uri": "https://localhost:8080/"
        },
        "id": "uTiz3ey58JVd",
        "outputId": "b9edd278-4d6a-4379-d948-520e370d4526"
      },
      "outputs": [
        {
          "name": "stdout",
          "output_type": "stream",
          "text": [
            "There are a total of 1161192 samples of 56057 unique words in the corpus.\n",
            "There are 928458 samples of 50536 unique words in the training set.\n",
            "There are 232734 samples of 25112 unique words in the testing set.\n",
            "There are 5521 words in the test set that are missing in the training set.\n"
          ]
        }
      ],
      "source": [
        "print(\"There are a total of {} samples of {} unique words in the corpus.\"\n",
        "      .format(data.N, len(data.vocab)))\n",
        "print(\"There are {} samples of {} unique words in the training set.\"\n",
        "      .format(data.training_set.N, len(data.training_set.vocab)))\n",
        "print(\"There are {} samples of {} unique words in the testing set.\"\n",
        "      .format(data.testing_set.N, len(data.testing_set.vocab)))\n",
        "print(\"There are {} words in the test set that are missing in the training set.\"\n",
        "      .format(len(data.testing_set.vocab - data.training_set.vocab)))"
      ]
    },
    {
      "cell_type": "markdown",
      "metadata": {
        "id": "nPlZaFEKDdBX"
      },
      "source": [
        "Accessing words with Dataset.X and tags with Dataset.Y"
      ]
    },
    {
      "cell_type": "code",
      "execution_count": null,
      "metadata": {
        "colab": {
          "base_uri": "https://localhost:8080/"
        },
        "id": "3xN8quo88RUt",
        "outputId": "b8f89bcd-6b47-4a64-a631-6352dd698f41"
      },
      "outputs": [
        {
          "name": "stdout",
          "output_type": "stream",
          "text": [
            "Sentence 1: ('Mr.', 'Podger', 'had', 'thanked', 'him', 'gravely', ',', 'and', 'now', 'he', 'made', 'use', 'of', 'the', 'advice', '.')\n",
            "\n",
            "Labels 1: ('NOUN', 'NOUN', 'VERB', 'VERB', 'PRON', 'ADV', '.', 'CONJ', 'ADV', 'PRON', 'VERB', 'NOUN', 'ADP', 'DET', 'NOUN', '.')\n",
            "\n",
            "Sentence 2: ('But', 'there', 'seemed', 'to', 'be', 'some', 'difference', 'of', 'opinion', 'as', 'to', 'how', 'far', 'the', 'board', 'should', 'go', ',', 'and', 'whose', 'advice', 'it', 'should', 'follow', '.')\n",
            "\n",
            "Labels 2: ('CONJ', 'PRT', 'VERB', 'PRT', 'VERB', 'DET', 'NOUN', 'ADP', 'NOUN', 'ADP', 'ADP', 'ADV', 'ADV', 'DET', 'NOUN', 'VERB', 'VERB', '.', 'CONJ', 'DET', 'NOUN', 'PRON', 'VERB', 'VERB', '.')\n",
            "\n"
          ]
        }
      ],
      "source": [
        "for i in range(2):    \n",
        "    print(\"Sentence {}:\".format(i + 1), data.X[i])\n",
        "    print()\n",
        "    print(\"Labels {}:\".format(i + 1), data.Y[i])\n",
        "    print()"
      ]
    },
    {
      "cell_type": "markdown",
      "metadata": {
        "id": "RhUCLCmiDhdP"
      },
      "source": [
        "See how data.stream() works."
      ]
    },
    {
      "cell_type": "code",
      "execution_count": null,
      "metadata": {
        "colab": {
          "base_uri": "https://localhost:8080/"
        },
        "id": "QM6DZBmh8X2U",
        "outputId": "1f8d9b2d-9b15-4743-c563-ae05923d913c"
      },
      "outputs": [
        {
          "name": "stdout",
          "output_type": "stream",
          "text": [
            "\n",
            "Stream (word, tag) pairs:\n",
            "\n",
            "\t ('Mr.', 'NOUN')\n",
            "\t ('Podger', 'NOUN')\n",
            "\t ('had', 'VERB')\n",
            "\t ('thanked', 'VERB')\n",
            "\t ('him', 'PRON')\n"
          ]
        }
      ],
      "source": [
        "print(\"\\nStream (word, tag) pairs:\\n\")\n",
        "for i, pair in enumerate(data.stream()):\n",
        "    print(\"\\t\", pair)\n",
        "    if i > 3: break"
      ]
    },
    {
      "cell_type": "markdown",
      "metadata": {
        "id": "au4MIHnqDpL4"
      },
      "source": [
        "Pair counts"
      ]
    },
    {
      "cell_type": "code",
      "execution_count": null,
      "metadata": {
        "id": "sAIu9CmaAS-T"
      },
      "outputs": [],
      "source": [
        "def pair_counts(tags, words):\n",
        "    d = defaultdict(lambda: defaultdict(int))\n",
        "    for tag, word in zip(tags, words):\n",
        "        d[tag][word] += 1\n",
        "        \n",
        "    return d\n",
        "tags = [tag for i, (word, tag) in enumerate(data.training_set.stream())]\n",
        "words = [word for i, (word, tag) in enumerate(data.training_set.stream())]"
      ]
    },
    {
      "cell_type": "code",
      "execution_count": null,
      "metadata": {
        "id": "yTk6omau8hE1"
      },
      "outputs": [],
      "source": [
        "def unigram_counts(sequences):\n",
        " return Counter(sequences)\n",
        "\n",
        "tags = [tag for i, (word, tag) in enumerate(data.training_set.stream())]\n",
        "tag_unigrams = unigram_counts(tags)"
      ]
    },
    {
      "cell_type": "code",
      "execution_count": null,
      "metadata": {
        "id": "R7XZtMGP8mkc"
      },
      "outputs": [],
      "source": [
        "def bigram_counts(sequences):\n",
        "  d = Counter(sequences)\n",
        "  return d\n",
        "\n",
        "tags = [tag for i, (word, tag) in enumerate(data.stream())]\n",
        "o = [(tags[i],tags[i+1]) for i in range(0,len(tags)-2,2)]\n",
        "tag_bigrams = bigram_counts(o)"
      ]
    },
    {
      "cell_type": "code",
      "execution_count": null,
      "metadata": {
        "id": "bT7jJD3Q8xQ0"
      },
      "outputs": [],
      "source": [
        "def starting_counts(sequences):\n",
        "    \n",
        "    d = Counter(sequences)\n",
        "    return d\n",
        "tags = [tag for i, (word, tag) in enumerate(data.stream())]\n",
        "starts_tag = [i[0] for i in data.Y]\n",
        "tag_starts = starting_counts(starts_tag)"
      ]
    },
    {
      "cell_type": "code",
      "execution_count": null,
      "metadata": {
        "id": "5T7w_6IM81MU"
      },
      "outputs": [],
      "source": [
        "def ending_counts(sequences):\n",
        "    \n",
        "    d = Counter(sequences)\n",
        "    return d\n",
        "end_tag = [i[len(i)-1] for i in data.Y]\n",
        "tag_ends = ending_counts(end_tag)"
      ]
    },
    {
      "cell_type": "markdown",
      "metadata": {
        "id": "aZQKv0taD8Av"
      },
      "source": [
        "Making predictions with a model."
      ]
    },
    {
      "cell_type": "code",
      "execution_count": null,
      "metadata": {
        "id": "e4eSOaScBV5q"
      },
      "outputs": [],
      "source": [
        "def replace_unknown(sequence):\n",
        "    \n",
        "    return [w if w in data.training_set.vocab else 'nan' for w in sequence]\n",
        "def simplify_decoding(X, model):\n",
        "    \n",
        "    _, state_path = model.viterbi(replace_unknown(X))\n",
        "    return [state[1].name for state in state_path[1:-1]]"
      ]
    },
    {
      "cell_type": "markdown",
      "metadata": {
        "id": "n93JxetiEZaX"
      },
      "source": [
        "Evaluating model accuracy."
      ]
    },
    {
      "cell_type": "code",
      "execution_count": null,
      "metadata": {
        "id": "xw8sHLlVB0EU"
      },
      "outputs": [],
      "source": [
        "def accuracy(X, Y, model):\n",
        "    \n",
        "    correct = total_predictions = 0\n",
        "    for observations, actual_tags in zip(X, Y):\n",
        "        \n",
        "        # The model.viterbi call in simplify_decoding will return None if the HMM\n",
        "        # raises an error (for example, if a test sentence contains a word that\n",
        "        # is out of vocabulary for the training set). Any exception counts the\n",
        "        # full sentence as an error (which makes this a conservative estimate).\n",
        "        try:\n",
        "            most_likely_tags = simplify_decoding(observations, model)\n",
        "            correct += sum(p == t for p, t in zip(most_likely_tags, actual_tags))\n",
        "        except:\n",
        "            pass\n",
        "        total_predictions += len(observations)\n",
        "    return correct / total_predictions"
      ]
    },
    {
      "cell_type": "code",
      "execution_count": null,
      "metadata": {
        "id": "6HLC3cOh-fis"
      },
      "outputs": [],
      "source": [
        "basic_model = HiddenMarkovModel(name=\"base-hmm-tagger\")\n",
        "tags = [tag for i, (word, tag) in enumerate(data.stream())]\n",
        "words = [word for i, (word, tag) in enumerate(data.stream())]\n",
        "tags_count=unigram_counts(tags)\n",
        "tag_words_count=pair_counts(tags,words)\n",
        "starting_tag_list=[i[0] for i in data.Y]\n",
        "ending_tag_list=[i[-1] for i in data.Y]\n",
        "starting_tag_count=starting_counts(starting_tag_list)#the number of times a tag occured at the start\n",
        "ending_tag_count=ending_counts(ending_tag_list)      #the number of times a tag occured at the end\n"
      ]
    },
    {
      "cell_type": "code",
      "execution_count": null,
      "metadata": {
        "id": "jA4D8sIY_XOT"
      },
      "outputs": [],
      "source": [
        "to_pass_states = []\n",
        "for tag, words_dict in tag_words_count.items():\n",
        "    total = float(sum(words_dict.values()))\n",
        "    distribution = {word: count/total for word, count in words_dict.items()}\n",
        "    tag_emissions = DiscreteDistribution(distribution)\n",
        "    tag_state = State(tag_emissions, name=tag)\n",
        "    to_pass_states.append(tag_state)"
      ]
    },
    {
      "cell_type": "code",
      "execution_count": null,
      "metadata": {
        "id": "y_kLvRTfAwCK"
      },
      "outputs": [],
      "source": [
        "basic_model.add_states()\n",
        "start_prob={}\n",
        "for tag in tags:\n",
        "    start_prob[tag]=starting_tag_count[tag]/tags_count[tag]\n",
        "for tag_state in to_pass_states :\n",
        "    basic_model.add_transition(basic_model.start,tag_state,start_prob[tag_state.name])\n",
        "end_prob={}\n",
        "for tag in tags:\n",
        "    end_prob[tag]=ending_tag_count[tag]/tags_count[tag]\n",
        "for tag_state in to_pass_states :\n",
        "    basic_model.add_transition(tag_state,basic_model.end,end_prob[tag_state.name])\n",
        "transition_prob_pair={}\n",
        "for key in tag_bigrams.keys():\n",
        "    transition_prob_pair[key]=tag_bigrams.get(key)/tags_count[key[0]]\n",
        "for tag_state in to_pass_states :\n",
        "    for next_tag_state in to_pass_states :\n",
        "        basic_model.add_transition(tag_state,next_tag_state,transition_prob_pair[(tag_state.name,next_tag_state.name)])\n",
        "basic_model.bake()"
      ]
    },
    {
      "cell_type": "markdown",
      "metadata": {
        "id": "8q_r7DzCErFz"
      },
      "source": [
        "Example Decoding Sequences with HMM Tagger"
      ]
    },
    {
      "cell_type": "code",
      "execution_count": null,
      "metadata": {
        "colab": {
          "base_uri": "https://localhost:8080/"
        },
        "id": "EFEd_dIlA9G6",
        "outputId": "1ddc4ded-1ba5-48d1-b03a-272b71de8afe"
      },
      "outputs": [
        {
          "name": "stdout",
          "output_type": "stream",
          "text": [
            "Sentence Key: b100-28144\n",
            "\n",
            "Predicted labels:\n",
            "-----------------\n",
            "['CONJ', 'NOUN', 'NUM', '.', 'NOUN', 'NUM', '.', 'NOUN', 'NUM', '.', 'CONJ', 'NOUN', 'NUM', '.', '.', 'NOUN', '.', '.']\n",
            "\n",
            "Actual labels:\n",
            "--------------\n",
            "('CONJ', 'NOUN', 'NUM', '.', 'NOUN', 'NUM', '.', 'NOUN', 'NUM', '.', 'CONJ', 'NOUN', 'NUM', '.', '.', 'NOUN', '.', '.')\n",
            "\n",
            "\n",
            "Sentence Key: b100-23146\n",
            "\n",
            "Predicted labels:\n",
            "-----------------\n",
            "['PRON', 'VERB', 'DET', 'NOUN', 'ADP', 'ADJ', 'ADJ', 'NOUN', 'VERB', 'VERB', '.', 'ADP', 'VERB', 'DET', 'NOUN', 'ADP', 'NOUN', 'ADP', 'DET', 'NOUN', '.']\n",
            "\n",
            "Actual labels:\n",
            "--------------\n",
            "('PRON', 'VERB', 'DET', 'NOUN', 'ADP', 'ADJ', 'ADJ', 'NOUN', 'VERB', 'VERB', '.', 'ADP', 'VERB', 'DET', 'NOUN', 'ADP', 'NOUN', 'ADP', 'DET', 'NOUN', '.')\n",
            "\n",
            "\n"
          ]
        }
      ],
      "source": [
        "for key in data.testing_set.keys[:2]:\n",
        "    print(\"Sentence Key: {}\\n\".format(key))\n",
        "    print(\"Predicted labels:\\n-----------------\")\n",
        "    print(simplify_decoding(data.sentences[key].words, basic_model))\n",
        "    print()\n",
        "    print(\"Actual labels:\\n--------------\")\n",
        "    print(data.sentences[key].tags)\n",
        "    print(\"\\n\")"
      ]
    },
    {
      "cell_type": "markdown",
      "metadata": {
        "id": "vLDTxR5-FiT4"
      },
      "source": [
        "Evaluate the accuracy of the HMM tagger"
      ]
    },
    {
      "cell_type": "code",
      "execution_count": null,
      "metadata": {
        "colab": {
          "base_uri": "https://localhost:8080/"
        },
        "id": "Mts4lImsBrto",
        "outputId": "34348d61-6f21-4e59-bd22-e791382e82c1"
      },
      "outputs": [
        {
          "name": "stdout",
          "output_type": "stream",
          "text": [
            "training accuracy basic hmm model: 97.49%\n",
            "testing accuracy basic hmm model: 96.09%\n"
          ]
        }
      ],
      "source": [
        "hmm_training_acc = accuracy(data.training_set.X, data.training_set.Y, basic_model)\n",
        "print(\"training accuracy basic hmm model: {:.2f}%\".format(100 * hmm_training_acc))\n",
        "hmm_testing_acc = accuracy(data.testing_set.X, data.testing_set.Y, basic_model)\n",
        "print(\"testing accuracy basic hmm model: {:.2f}%\".format(100 * hmm_testing_acc))"
      ]
    },
    {
      "cell_type": "markdown",
      "metadata": {
        "id": "uzx4lAiECSr3"
      },
      "source": [
        "MFC tagger"
      ]
    },
    {
      "cell_type": "code",
      "execution_count": null,
      "metadata": {
        "id": "3YsCxyTsCRfP"
      },
      "outputs": [],
      "source": [
        "FakeState = namedtuple('FakeState', 'name')\n",
        "class MFCTagger:\n",
        "    missing = FakeState(name = '<MISSING>')\n",
        "    \n",
        "    def __init__(self, table):\n",
        "        self.table = defaultdict(lambda: MFCTagger.missing)\n",
        "        self.table.update({word: FakeState(name=tag) for word, tag in table.items()})\n",
        "        \n",
        "    def viterbi(self, seq):\n",
        "        \"\"\"This method simplifies predictions by matching the Pomegranate viterbi() interface\"\"\"\n",
        "        return 0., list(enumerate([\"<start>\"] + [self.table[w] for w in seq] + [\"<end>\"]))\n",
        "    \n",
        "tags = [tag for i, (word, tag) in enumerate(data.training_set.stream())]\n",
        "words = [word for i, (word, tag) in enumerate(data.training_set.stream())]\n",
        "word_counts = pair_counts(words, tags)\n",
        "mfc_table = dict((word, max(tags.keys(), key=lambda key: tags[key])) for word, tags in word_counts.items())\n",
        "mfc_model = MFCTagger(mfc_table)"
      ]
    },
    {
      "cell_type": "markdown",
      "metadata": {
        "id": "JkOfa2RfETx_"
      },
      "source": [
        "Example Decoding Sequences with MFC Tagger"
      ]
    },
    {
      "cell_type": "code",
      "execution_count": null,
      "metadata": {
        "colab": {
          "base_uri": "https://localhost:8080/"
        },
        "id": "GMOJuBWdCeUR",
        "outputId": "f7900ea7-c401-4995-a79c-c5928612f445"
      },
      "outputs": [
        {
          "name": "stdout",
          "output_type": "stream",
          "text": [
            "Sentence Key: b100-28144\n",
            "\n",
            "Predicted labels:\n",
            "-----------------\n",
            "['CONJ', 'NOUN', 'NUM', '.', 'NOUN', 'NUM', '.', 'NOUN', 'NUM', '.', 'CONJ', 'NOUN', 'NUM', '.', '.', 'NOUN', '.', '.']\n",
            "\n",
            "Actual labels:\n",
            "--------------\n",
            "('CONJ', 'NOUN', 'NUM', '.', 'NOUN', 'NUM', '.', 'NOUN', 'NUM', '.', 'CONJ', 'NOUN', 'NUM', '.', '.', 'NOUN', '.', '.')\n",
            "\n",
            "\n",
            "Sentence Key: b100-23146\n",
            "\n",
            "Predicted labels:\n",
            "-----------------\n",
            "['PRON', 'VERB', 'DET', 'NOUN', 'ADP', 'ADJ', 'ADJ', 'NOUN', 'VERB', 'VERB', '.', 'ADP', 'VERB', 'DET', 'NOUN', 'ADP', 'NOUN', 'ADP', 'DET', 'NOUN', '.']\n",
            "\n",
            "Actual labels:\n",
            "--------------\n",
            "('PRON', 'VERB', 'DET', 'NOUN', 'ADP', 'ADJ', 'ADJ', 'NOUN', 'VERB', 'VERB', '.', 'ADP', 'VERB', 'DET', 'NOUN', 'ADP', 'NOUN', 'ADP', 'DET', 'NOUN', '.')\n",
            "\n",
            "\n"
          ]
        }
      ],
      "source": [
        "for key in data.testing_set.keys[:2]:\n",
        "    print(\"Sentence Key: {}\\n\".format(key))\n",
        "    print(\"Predicted labels:\\n-----------------\")\n",
        "    print(simplify_decoding(data.sentences[key].words, mfc_model))\n",
        "    print()\n",
        "    print(\"Actual labels:\\n--------------\")\n",
        "    print(data.sentences[key].tags)\n",
        "    print(\"\\n\")"
      ]
    },
    {
      "cell_type": "markdown",
      "metadata": {
        "id": "ZIxHg9hsFmt_"
      },
      "source": [
        "Evaluate the accuracy of the MFC tagger"
      ]
    },
    {
      "cell_type": "code",
      "execution_count": null,
      "metadata": {
        "colab": {
          "base_uri": "https://localhost:8080/"
        },
        "id": "pNC-HQWdCgg4",
        "outputId": "dab4c9df-faee-460a-887e-1736584b435b"
      },
      "outputs": [
        {
          "name": "stdout",
          "output_type": "stream",
          "text": [
            "training accuracy mfc_model: 95.72%\n",
            "testing accuracy mfc_model: 93.01%\n"
          ]
        }
      ],
      "source": [
        "mfc_training_acc = accuracy(data.training_set.X, data.training_set.Y, mfc_model)\n",
        "print(\"training accuracy mfc_model: {:.2f}%\".format(100 * mfc_training_acc))\n",
        "mfc_testing_acc = accuracy(data.testing_set.X, data.testing_set.Y, mfc_model)\n",
        "print(\"testing accuracy mfc_model: {:.2f}%\".format(100 * mfc_testing_acc))"
      ]
    }
  ],
  "metadata": {
    "colab": {
      "provenance": []
    },
    "kernelspec": {
      "display_name": "Python 3",
      "name": "python3"
    },
    "language_info": {
      "name": "python",
      "version": "3.9.12"
    }
  },
  "nbformat": 4,
  "nbformat_minor": 0
}
